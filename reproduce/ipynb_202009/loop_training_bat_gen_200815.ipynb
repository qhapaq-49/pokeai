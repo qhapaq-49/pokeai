{
 "cells": [
  {
   "cell_type": "code",
   "execution_count": 3,
   "metadata": {},
   "outputs": [],
   "source": [
    "from bson import ObjectId\n",
    "import numpy as np\n",
    "from pokeai.util import json_load, pickle_load, ROOT_DIR, DATASET_DIR, yaml_dump\n",
    "from collections import Counter\n",
    "import json\n",
    "import yaml\n",
    "import os\n",
    "import copy"
   ]
  },
  {
   "cell_type": "code",
   "execution_count": 4,
   "metadata": {},
   "outputs": [],
   "source": [
    "trainer_param_tmpl = yaml.safe_load(\"\"\"\n",
    "battles: 100000\n",
    "party_tags: []\n",
    "tags: []\n",
    "trainer:\n",
    "  dqn_params:\n",
    "    epsilon: 0.3\n",
    "    epsilon_decay: 2.0e-06\n",
    "    gamma: 0.95\n",
    "    lr: 0.0004\n",
    "  feature_params: {}\n",
    "  model_params:\n",
    "    bn: false\n",
    "    n_channels: 16\n",
    "    n_layers: 3\n",
    "\"\"\")"
   ]
  },
  {
   "cell_type": "code",
   "execution_count": 5,
   "metadata": {},
   "outputs": [],
   "source": [
    "tag_prefix = \"rl_loop_200815_1_\""
   ]
  },
  {
   "cell_type": "code",
   "execution_count": 6,
   "metadata": {},
   "outputs": [],
   "source": [
    "file_base_dir = r\"D:\\dev\\pokeai\\pokeai\\experiment\\gmm\\rl\\rl_loop_200815\""
   ]
  },
  {
   "cell_type": "code",
   "execution_count": 11,
   "metadata": {},
   "outputs": [
    {
     "name": "stdout",
     "output_type": "stream",
     "text": [
      "\n",
      "python -m pokeai.ai.generate_party rl_loop_200815_1_hc_0 -n 871 -r finalgoodmove1vs1\n",
      "\n",
      "python -m pokeai.ai.generate_party rl_loop_200815_1_allonce_0 --all_pokemon_once -r finalgoodmove1vs1\n",
      "python -m pokeai.ai.generic_move_model.rl_train D:\\dev\\pokeai\\pokeai\\experiment\\gmm\\rl\\rl_loop_200815\\rl_loop_200815_1_0.yaml --trainer_id 5f37a6829949403bf6af940b \n",
      "python -m pokeai.ai.party_feature.hillclimb_party 5f37a6829949403bf6af940b rl_loop_200815_1_hc_1 -r finalgoodmove1vs1 -n 871 --generations 100 --populations 10 --party_feature_penalty 1.0\n",
      "rem {\"iternum\": 0, \"trainer_id\": \"5f37a6829949403bf6af940b\", \"train_party_tags\": [\"rl_loop_200815_1_allonce_0\", \"rl_loop_200815_1_hc_0\"], \"gen_party_tag\": \"rl_loop_200815_1_hc_1\"}\n",
      "\n",
      "python -m pokeai.ai.generate_party rl_loop_200815_1_allonce_1 --all_pokemon_once -r finalgoodmove1vs1\n",
      "python -m pokeai.ai.generic_move_model.rl_train D:\\dev\\pokeai\\pokeai\\experiment\\gmm\\rl\\rl_loop_200815\\rl_loop_200815_1_1.yaml --trainer_id 5f37a6829949403bf6af940c --resume_trainer_id 5f37a6829949403bf6af940b\n",
      "python -m pokeai.ai.party_feature.hillclimb_party 5f37a6829949403bf6af940c rl_loop_200815_1_hc_2 -r finalgoodmove1vs1 -n 871 --generations 100 --populations 10 --party_feature_penalty 1.0\n",
      "rem {\"iternum\": 1, \"trainer_id\": \"5f37a6829949403bf6af940c\", \"train_party_tags\": [\"rl_loop_200815_1_allonce_1\", \"rl_loop_200815_1_hc_1\"], \"gen_party_tag\": \"rl_loop_200815_1_hc_2\"}\n",
      "\n",
      "python -m pokeai.ai.generate_party rl_loop_200815_1_allonce_2 --all_pokemon_once -r finalgoodmove1vs1\n",
      "python -m pokeai.ai.generic_move_model.rl_train D:\\dev\\pokeai\\pokeai\\experiment\\gmm\\rl\\rl_loop_200815\\rl_loop_200815_1_2.yaml --trainer_id 5f37a6829949403bf6af940d --resume_trainer_id 5f37a6829949403bf6af940c\n",
      "python -m pokeai.ai.party_feature.hillclimb_party 5f37a6829949403bf6af940d rl_loop_200815_1_hc_3 -r finalgoodmove1vs1 -n 871 --generations 100 --populations 10 --party_feature_penalty 1.0\n",
      "rem {\"iternum\": 2, \"trainer_id\": \"5f37a6829949403bf6af940d\", \"train_party_tags\": [\"rl_loop_200815_1_allonce_2\", \"rl_loop_200815_1_hc_2\"], \"gen_party_tag\": \"rl_loop_200815_1_hc_3\"}\n",
      "\n",
      "python -m pokeai.ai.generate_party rl_loop_200815_1_allonce_3 --all_pokemon_once -r finalgoodmove1vs1\n",
      "python -m pokeai.ai.generic_move_model.rl_train D:\\dev\\pokeai\\pokeai\\experiment\\gmm\\rl\\rl_loop_200815\\rl_loop_200815_1_3.yaml --trainer_id 5f37a6829949403bf6af940e --resume_trainer_id 5f37a6829949403bf6af940d\n",
      "python -m pokeai.ai.party_feature.hillclimb_party 5f37a6829949403bf6af940e rl_loop_200815_1_hc_4 -r finalgoodmove1vs1 -n 871 --generations 100 --populations 10 --party_feature_penalty 1.0\n",
      "rem {\"iternum\": 3, \"trainer_id\": \"5f37a6829949403bf6af940e\", \"train_party_tags\": [\"rl_loop_200815_1_allonce_3\", \"rl_loop_200815_1_hc_3\"], \"gen_party_tag\": \"rl_loop_200815_1_hc_4\"}\n",
      "\n",
      "python -m pokeai.ai.generate_party rl_loop_200815_1_allonce_4 --all_pokemon_once -r finalgoodmove1vs1\n",
      "python -m pokeai.ai.generic_move_model.rl_train D:\\dev\\pokeai\\pokeai\\experiment\\gmm\\rl\\rl_loop_200815\\rl_loop_200815_1_4.yaml --trainer_id 5f37a6829949403bf6af940f --resume_trainer_id 5f37a6829949403bf6af940e\n",
      "python -m pokeai.ai.party_feature.hillclimb_party 5f37a6829949403bf6af940f rl_loop_200815_1_hc_5 -r finalgoodmove1vs1 -n 871 --generations 100 --populations 10 --party_feature_penalty 1.0\n",
      "rem {\"iternum\": 4, \"trainer_id\": \"5f37a6829949403bf6af940f\", \"train_party_tags\": [\"rl_loop_200815_1_allonce_4\", \"rl_loop_200815_1_hc_4\"], \"gen_party_tag\": \"rl_loop_200815_1_hc_5\"}\n",
      "\n",
      "python -m pokeai.ai.generate_party rl_loop_200815_1_allonce_5 --all_pokemon_once -r finalgoodmove1vs1\n",
      "python -m pokeai.ai.generic_move_model.rl_train D:\\dev\\pokeai\\pokeai\\experiment\\gmm\\rl\\rl_loop_200815\\rl_loop_200815_1_5.yaml --trainer_id 5f37a6829949403bf6af9410 --resume_trainer_id 5f37a6829949403bf6af940f\n",
      "python -m pokeai.ai.party_feature.hillclimb_party 5f37a6829949403bf6af9410 rl_loop_200815_1_hc_6 -r finalgoodmove1vs1 -n 871 --generations 100 --populations 10 --party_feature_penalty 1.0\n",
      "rem {\"iternum\": 5, \"trainer_id\": \"5f37a6829949403bf6af9410\", \"train_party_tags\": [\"rl_loop_200815_1_allonce_5\", \"rl_loop_200815_1_hc_5\"], \"gen_party_tag\": \"rl_loop_200815_1_hc_6\"}\n",
      "\n",
      "python -m pokeai.ai.generate_party rl_loop_200815_1_allonce_6 --all_pokemon_once -r finalgoodmove1vs1\n",
      "python -m pokeai.ai.generic_move_model.rl_train D:\\dev\\pokeai\\pokeai\\experiment\\gmm\\rl\\rl_loop_200815\\rl_loop_200815_1_6.yaml --trainer_id 5f37a6829949403bf6af9411 --resume_trainer_id 5f37a6829949403bf6af9410\n",
      "python -m pokeai.ai.party_feature.hillclimb_party 5f37a6829949403bf6af9411 rl_loop_200815_1_hc_7 -r finalgoodmove1vs1 -n 871 --generations 100 --populations 10 --party_feature_penalty 1.0\n",
      "rem {\"iternum\": 6, \"trainer_id\": \"5f37a6829949403bf6af9411\", \"train_party_tags\": [\"rl_loop_200815_1_allonce_6\", \"rl_loop_200815_1_hc_6\"], \"gen_party_tag\": \"rl_loop_200815_1_hc_7\"}\n",
      "\n",
      "python -m pokeai.ai.generate_party rl_loop_200815_1_allonce_7 --all_pokemon_once -r finalgoodmove1vs1\n",
      "python -m pokeai.ai.generic_move_model.rl_train D:\\dev\\pokeai\\pokeai\\experiment\\gmm\\rl\\rl_loop_200815\\rl_loop_200815_1_7.yaml --trainer_id 5f37a6829949403bf6af9412 --resume_trainer_id 5f37a6829949403bf6af9411\n",
      "python -m pokeai.ai.party_feature.hillclimb_party 5f37a6829949403bf6af9412 rl_loop_200815_1_hc_8 -r finalgoodmove1vs1 -n 871 --generations 100 --populations 10 --party_feature_penalty 1.0\n",
      "rem {\"iternum\": 7, \"trainer_id\": \"5f37a6829949403bf6af9412\", \"train_party_tags\": [\"rl_loop_200815_1_allonce_7\", \"rl_loop_200815_1_hc_7\"], \"gen_party_tag\": \"rl_loop_200815_1_hc_8\"}\n",
      "\n",
      "python -m pokeai.ai.generate_party rl_loop_200815_1_allonce_8 --all_pokemon_once -r finalgoodmove1vs1\n",
      "python -m pokeai.ai.generic_move_model.rl_train D:\\dev\\pokeai\\pokeai\\experiment\\gmm\\rl\\rl_loop_200815\\rl_loop_200815_1_8.yaml --trainer_id 5f37a6829949403bf6af9413 --resume_trainer_id 5f37a6829949403bf6af9412\n",
      "python -m pokeai.ai.party_feature.hillclimb_party 5f37a6829949403bf6af9413 rl_loop_200815_1_hc_9 -r finalgoodmove1vs1 -n 871 --generations 100 --populations 10 --party_feature_penalty 1.0\n",
      "rem {\"iternum\": 8, \"trainer_id\": \"5f37a6829949403bf6af9413\", \"train_party_tags\": [\"rl_loop_200815_1_allonce_8\", \"rl_loop_200815_1_hc_8\"], \"gen_party_tag\": \"rl_loop_200815_1_hc_9\"}\n",
      "\n",
      "python -m pokeai.ai.generate_party rl_loop_200815_1_allonce_9 --all_pokemon_once -r finalgoodmove1vs1\n",
      "python -m pokeai.ai.generic_move_model.rl_train D:\\dev\\pokeai\\pokeai\\experiment\\gmm\\rl\\rl_loop_200815\\rl_loop_200815_1_9.yaml --trainer_id 5f37a6829949403bf6af9414 --resume_trainer_id 5f37a6829949403bf6af9413\n",
      "python -m pokeai.ai.party_feature.hillclimb_party 5f37a6829949403bf6af9414 rl_loop_200815_1_hc_10 -r finalgoodmove1vs1 -n 871 --generations 100 --populations 10 --party_feature_penalty 1.0\n",
      "rem {\"iternum\": 9, \"trainer_id\": \"5f37a6829949403bf6af9414\", \"train_party_tags\": [\"rl_loop_200815_1_allonce_9\", \"rl_loop_200815_1_hc_9\"], \"gen_party_tag\": \"rl_loop_200815_1_hc_10\"}\n",
      "\n"
     ]
    }
   ],
   "source": [
    "cmds = \"\"\n",
    "last_trainer_id = None\n",
    "for iternum in range(10):\n",
    "    party_allonce = f\"{tag_prefix}allonce_{iternum}\"\n",
    "    party_prev_gen = f\"{tag_prefix}hc_{iternum}\"\n",
    "    if iternum == 0:\n",
    "        cmds += f\"\"\"\n",
    "python -m pokeai.ai.generate_party {party_prev_gen} -n 871 -r finalgoodmove1vs1\n",
    "\"\"\"\n",
    "    train_param = copy.deepcopy(trainer_param_tmpl)\n",
    "    train_param[\"party_tags\"] = [party_allonce, party_prev_gen]\n",
    "    train_param[\"tags\"] = [f\"{tag_prefix}{iternum}\"]\n",
    "    train_param_file = os.path.join(file_base_dir, f\"{tag_prefix}{iternum}.yaml\")\n",
    "    yaml_dump(train_param, train_param_file)\n",
    "    trainer_id = ObjectId()\n",
    "    party_gen = f\"{tag_prefix}hc_{iternum+1}\"\n",
    "    resume_trainer_id = f\"--resume_trainer_id {last_trainer_id}\" if last_trainer_id else \"\"\n",
    "    comment_info = json.dumps({\"iternum\": iternum, \"trainer_id\": str(trainer_id), \"train_party_tags\": train_param[\"party_tags\"], \"gen_party_tag\": party_gen})\n",
    "    cmds += f\"\"\"\n",
    "python -m pokeai.ai.generate_party {party_allonce} --all_pokemon_once -r finalgoodmove1vs1\n",
    "python -m pokeai.ai.generic_move_model.rl_train {train_param_file} --trainer_id {trainer_id} {resume_trainer_id}\n",
    "python -m pokeai.ai.party_feature.hillclimb_party {trainer_id} {party_gen} -r finalgoodmove1vs1 -n 871 --generations 100 --populations 10 --party_feature_penalty 1.0\n",
    "rem {comment_info}\n",
    "\"\"\"\n",
    "    last_trainer_id = trainer_id\n",
    "\n",
    "print(cmds)\n",
    "with open(os.path.join(file_base_dir, f\"{tag_prefix}run.bat\"), \"w\") as f:\n",
    "    f.write(cmds)\n"
   ]
  },
  {
   "cell_type": "code",
   "execution_count": null,
   "metadata": {},
   "outputs": [],
   "source": []
  }
 ],
 "metadata": {
  "kernelspec": {
   "display_name": "Python 3",
   "language": "python",
   "name": "python3"
  },
  "language_info": {
   "codemirror_mode": {
    "name": "ipython",
    "version": 3
   },
   "file_extension": ".py",
   "mimetype": "text/x-python",
   "name": "python",
   "nbconvert_exporter": "python",
   "pygments_lexer": "ipython3",
   "version": "3.8.1"
  }
 },
 "nbformat": 4,
 "nbformat_minor": 4
}
