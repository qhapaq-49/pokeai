{
 "cells": [
  {
   "cell_type": "code",
   "execution_count": 1,
   "metadata": {},
   "outputs": [],
   "source": [
    "# ループ学習した各iterationでのレーティングバトルを実行\n",
    "# tag_prefix = \"rl_loop_200815_1_\""
   ]
  },
  {
   "cell_type": "code",
   "execution_count": 3,
   "metadata": {},
   "outputs": [],
   "source": [
    "from bson import ObjectId\n",
    "import numpy as np\n",
    "from pokeai.util import json_load, pickle_load, ROOT_DIR, DATASET_DIR, yaml_dump\n",
    "from collections import Counter\n",
    "import json\n",
    "import yaml\n",
    "import os\n",
    "import copy"
   ]
  },
  {
   "cell_type": "code",
   "execution_count": 2,
   "metadata": {},
   "outputs": [],
   "source": [
    "file_base_dir = r\"D:\\dev\\pokeai\\pokeai\\experiment\\gmm\\rl\\rl_loop_200815\"\n",
    "tag_prefix = \"rl_loop_200815_1_\""
   ]
  },
  {
   "cell_type": "code",
   "execution_count": 4,
   "metadata": {},
   "outputs": [],
   "source": [
    "with open(os.path.join(file_base_dir, f\"{tag_prefix}run.bat\"), \"r\") as f:\n",
    "    bat_lines = f.readlines()"
   ]
  },
  {
   "cell_type": "code",
   "execution_count": 5,
   "metadata": {
    "scrolled": true
   },
   "outputs": [
    {
     "data": {
      "text/plain": [
       "['\\n',\n",
       " 'python -m pokeai.ai.generate_party rl_loop_200815_1_hc_0 -n 871 -r finalgoodmove1vs1\\n',\n",
       " '\\n',\n",
       " 'python -m pokeai.ai.generate_party rl_loop_200815_1_allonce_0 --all_pokemon_once -r finalgoodmove1vs1\\n',\n",
       " 'python -m pokeai.ai.generic_move_model.rl_train D:\\\\dev\\\\pokeai\\\\pokeai\\\\experiment\\\\gmm\\\\rl\\\\rl_loop_200815\\\\rl_loop_200815_1_0.yaml --trainer_id 5f37a6829949403bf6af940b \\n',\n",
       " 'python -m pokeai.ai.party_feature.hillclimb_party 5f37a6829949403bf6af940b rl_loop_200815_1_hc_1 -r finalgoodmove1vs1 -n 871 --generations 100 --populations 10 --party_feature_penalty 1.0\\n',\n",
       " 'rem {\"iternum\": 0, \"trainer_id\": \"5f37a6829949403bf6af940b\", \"train_party_tags\": [\"rl_loop_200815_1_allonce_0\", \"rl_loop_200815_1_hc_0\"], \"gen_party_tag\": \"rl_loop_200815_1_hc_1\"}\\n',\n",
       " '\\n',\n",
       " 'python -m pokeai.ai.generate_party rl_loop_200815_1_allonce_1 --all_pokemon_once -r finalgoodmove1vs1\\n',\n",
       " 'python -m pokeai.ai.generic_move_model.rl_train D:\\\\dev\\\\pokeai\\\\pokeai\\\\experiment\\\\gmm\\\\rl\\\\rl_loop_200815\\\\rl_loop_200815_1_1.yaml --trainer_id 5f37a6829949403bf6af940c --resume_trainer_id 5f37a6829949403bf6af940b\\n',\n",
       " 'python -m pokeai.ai.party_feature.hillclimb_party 5f37a6829949403bf6af940c rl_loop_200815_1_hc_2 -r finalgoodmove1vs1 -n 871 --generations 100 --populations 10 --party_feature_penalty 1.0\\n',\n",
       " 'rem {\"iternum\": 1, \"trainer_id\": \"5f37a6829949403bf6af940c\", \"train_party_tags\": [\"rl_loop_200815_1_allonce_1\", \"rl_loop_200815_1_hc_1\"], \"gen_party_tag\": \"rl_loop_200815_1_hc_2\"}\\n',\n",
       " '\\n',\n",
       " 'python -m pokeai.ai.generate_party rl_loop_200815_1_allonce_2 --all_pokemon_once -r finalgoodmove1vs1\\n',\n",
       " 'python -m pokeai.ai.generic_move_model.rl_train D:\\\\dev\\\\pokeai\\\\pokeai\\\\experiment\\\\gmm\\\\rl\\\\rl_loop_200815\\\\rl_loop_200815_1_2.yaml --trainer_id 5f37a6829949403bf6af940d --resume_trainer_id 5f37a6829949403bf6af940c\\n',\n",
       " 'python -m pokeai.ai.party_feature.hillclimb_party 5f37a6829949403bf6af940d rl_loop_200815_1_hc_3 -r finalgoodmove1vs1 -n 871 --generations 100 --populations 10 --party_feature_penalty 1.0\\n',\n",
       " 'rem {\"iternum\": 2, \"trainer_id\": \"5f37a6829949403bf6af940d\", \"train_party_tags\": [\"rl_loop_200815_1_allonce_2\", \"rl_loop_200815_1_hc_2\"], \"gen_party_tag\": \"rl_loop_200815_1_hc_3\"}\\n',\n",
       " '\\n',\n",
       " 'python -m pokeai.ai.generate_party rl_loop_200815_1_allonce_3 --all_pokemon_once -r finalgoodmove1vs1\\n',\n",
       " 'python -m pokeai.ai.generic_move_model.rl_train D:\\\\dev\\\\pokeai\\\\pokeai\\\\experiment\\\\gmm\\\\rl\\\\rl_loop_200815\\\\rl_loop_200815_1_3.yaml --trainer_id 5f37a6829949403bf6af940e --resume_trainer_id 5f37a6829949403bf6af940d\\n',\n",
       " 'python -m pokeai.ai.party_feature.hillclimb_party 5f37a6829949403bf6af940e rl_loop_200815_1_hc_4 -r finalgoodmove1vs1 -n 871 --generations 100 --populations 10 --party_feature_penalty 1.0\\n',\n",
       " 'rem {\"iternum\": 3, \"trainer_id\": \"5f37a6829949403bf6af940e\", \"train_party_tags\": [\"rl_loop_200815_1_allonce_3\", \"rl_loop_200815_1_hc_3\"], \"gen_party_tag\": \"rl_loop_200815_1_hc_4\"}\\n',\n",
       " '\\n',\n",
       " 'python -m pokeai.ai.generate_party rl_loop_200815_1_allonce_4 --all_pokemon_once -r finalgoodmove1vs1\\n',\n",
       " 'python -m pokeai.ai.generic_move_model.rl_train D:\\\\dev\\\\pokeai\\\\pokeai\\\\experiment\\\\gmm\\\\rl\\\\rl_loop_200815\\\\rl_loop_200815_1_4.yaml --trainer_id 5f37a6829949403bf6af940f --resume_trainer_id 5f37a6829949403bf6af940e\\n',\n",
       " 'python -m pokeai.ai.party_feature.hillclimb_party 5f37a6829949403bf6af940f rl_loop_200815_1_hc_5 -r finalgoodmove1vs1 -n 871 --generations 100 --populations 10 --party_feature_penalty 1.0\\n',\n",
       " 'rem {\"iternum\": 4, \"trainer_id\": \"5f37a6829949403bf6af940f\", \"train_party_tags\": [\"rl_loop_200815_1_allonce_4\", \"rl_loop_200815_1_hc_4\"], \"gen_party_tag\": \"rl_loop_200815_1_hc_5\"}\\n',\n",
       " '\\n',\n",
       " 'python -m pokeai.ai.generate_party rl_loop_200815_1_allonce_5 --all_pokemon_once -r finalgoodmove1vs1\\n',\n",
       " 'python -m pokeai.ai.generic_move_model.rl_train D:\\\\dev\\\\pokeai\\\\pokeai\\\\experiment\\\\gmm\\\\rl\\\\rl_loop_200815\\\\rl_loop_200815_1_5.yaml --trainer_id 5f37a6829949403bf6af9410 --resume_trainer_id 5f37a6829949403bf6af940f\\n',\n",
       " 'python -m pokeai.ai.party_feature.hillclimb_party 5f37a6829949403bf6af9410 rl_loop_200815_1_hc_6 -r finalgoodmove1vs1 -n 871 --generations 100 --populations 10 --party_feature_penalty 1.0\\n',\n",
       " 'rem {\"iternum\": 5, \"trainer_id\": \"5f37a6829949403bf6af9410\", \"train_party_tags\": [\"rl_loop_200815_1_allonce_5\", \"rl_loop_200815_1_hc_5\"], \"gen_party_tag\": \"rl_loop_200815_1_hc_6\"}\\n',\n",
       " '\\n',\n",
       " 'python -m pokeai.ai.generate_party rl_loop_200815_1_allonce_6 --all_pokemon_once -r finalgoodmove1vs1\\n',\n",
       " 'python -m pokeai.ai.generic_move_model.rl_train D:\\\\dev\\\\pokeai\\\\pokeai\\\\experiment\\\\gmm\\\\rl\\\\rl_loop_200815\\\\rl_loop_200815_1_6.yaml --trainer_id 5f37a6829949403bf6af9411 --resume_trainer_id 5f37a6829949403bf6af9410\\n',\n",
       " 'python -m pokeai.ai.party_feature.hillclimb_party 5f37a6829949403bf6af9411 rl_loop_200815_1_hc_7 -r finalgoodmove1vs1 -n 871 --generations 100 --populations 10 --party_feature_penalty 1.0\\n',\n",
       " 'rem {\"iternum\": 6, \"trainer_id\": \"5f37a6829949403bf6af9411\", \"train_party_tags\": [\"rl_loop_200815_1_allonce_6\", \"rl_loop_200815_1_hc_6\"], \"gen_party_tag\": \"rl_loop_200815_1_hc_7\"}\\n',\n",
       " '\\n',\n",
       " 'python -m pokeai.ai.generate_party rl_loop_200815_1_allonce_7 --all_pokemon_once -r finalgoodmove1vs1\\n',\n",
       " 'python -m pokeai.ai.generic_move_model.rl_train D:\\\\dev\\\\pokeai\\\\pokeai\\\\experiment\\\\gmm\\\\rl\\\\rl_loop_200815\\\\rl_loop_200815_1_7.yaml --trainer_id 5f37a6829949403bf6af9412 --resume_trainer_id 5f37a6829949403bf6af9411\\n',\n",
       " 'python -m pokeai.ai.party_feature.hillclimb_party 5f37a6829949403bf6af9412 rl_loop_200815_1_hc_8 -r finalgoodmove1vs1 -n 871 --generations 100 --populations 10 --party_feature_penalty 1.0\\n',\n",
       " 'rem {\"iternum\": 7, \"trainer_id\": \"5f37a6829949403bf6af9412\", \"train_party_tags\": [\"rl_loop_200815_1_allonce_7\", \"rl_loop_200815_1_hc_7\"], \"gen_party_tag\": \"rl_loop_200815_1_hc_8\"}\\n',\n",
       " '\\n',\n",
       " 'python -m pokeai.ai.generate_party rl_loop_200815_1_allonce_8 --all_pokemon_once -r finalgoodmove1vs1\\n',\n",
       " 'python -m pokeai.ai.generic_move_model.rl_train D:\\\\dev\\\\pokeai\\\\pokeai\\\\experiment\\\\gmm\\\\rl\\\\rl_loop_200815\\\\rl_loop_200815_1_8.yaml --trainer_id 5f37a6829949403bf6af9413 --resume_trainer_id 5f37a6829949403bf6af9412\\n',\n",
       " 'python -m pokeai.ai.party_feature.hillclimb_party 5f37a6829949403bf6af9413 rl_loop_200815_1_hc_9 -r finalgoodmove1vs1 -n 871 --generations 100 --populations 10 --party_feature_penalty 1.0\\n',\n",
       " 'rem {\"iternum\": 8, \"trainer_id\": \"5f37a6829949403bf6af9413\", \"train_party_tags\": [\"rl_loop_200815_1_allonce_8\", \"rl_loop_200815_1_hc_8\"], \"gen_party_tag\": \"rl_loop_200815_1_hc_9\"}\\n',\n",
       " '\\n',\n",
       " 'python -m pokeai.ai.generate_party rl_loop_200815_1_allonce_9 --all_pokemon_once -r finalgoodmove1vs1\\n',\n",
       " 'python -m pokeai.ai.generic_move_model.rl_train D:\\\\dev\\\\pokeai\\\\pokeai\\\\experiment\\\\gmm\\\\rl\\\\rl_loop_200815\\\\rl_loop_200815_1_9.yaml --trainer_id 5f37a6829949403bf6af9414 --resume_trainer_id 5f37a6829949403bf6af9413\\n',\n",
       " 'python -m pokeai.ai.party_feature.hillclimb_party 5f37a6829949403bf6af9414 rl_loop_200815_1_hc_10 -r finalgoodmove1vs1 -n 871 --generations 100 --populations 10 --party_feature_penalty 1.0\\n',\n",
       " 'rem {\"iternum\": 9, \"trainer_id\": \"5f37a6829949403bf6af9414\", \"train_party_tags\": [\"rl_loop_200815_1_allonce_9\", \"rl_loop_200815_1_hc_9\"], \"gen_party_tag\": \"rl_loop_200815_1_hc_10\"}\\n']"
      ]
     },
     "execution_count": 5,
     "metadata": {},
     "output_type": "execute_result"
    }
   ],
   "source": [
    "bat_lines"
   ]
  },
  {
   "cell_type": "code",
   "execution_count": 6,
   "metadata": {},
   "outputs": [],
   "source": [
    "configs = []\n",
    "for line in bat_lines:\n",
    "    if line.startswith(\"rem \"):\n",
    "        configs.append(json.loads(line[4:]))"
   ]
  },
  {
   "cell_type": "code",
   "execution_count": 7,
   "metadata": {},
   "outputs": [
    {
     "data": {
      "text/plain": [
       "[{'iternum': 0,\n",
       "  'trainer_id': '5f37a6829949403bf6af940b',\n",
       "  'train_party_tags': ['rl_loop_200815_1_allonce_0', 'rl_loop_200815_1_hc_0'],\n",
       "  'gen_party_tag': 'rl_loop_200815_1_hc_1'},\n",
       " {'iternum': 1,\n",
       "  'trainer_id': '5f37a6829949403bf6af940c',\n",
       "  'train_party_tags': ['rl_loop_200815_1_allonce_1', 'rl_loop_200815_1_hc_1'],\n",
       "  'gen_party_tag': 'rl_loop_200815_1_hc_2'},\n",
       " {'iternum': 2,\n",
       "  'trainer_id': '5f37a6829949403bf6af940d',\n",
       "  'train_party_tags': ['rl_loop_200815_1_allonce_2', 'rl_loop_200815_1_hc_2'],\n",
       "  'gen_party_tag': 'rl_loop_200815_1_hc_3'},\n",
       " {'iternum': 3,\n",
       "  'trainer_id': '5f37a6829949403bf6af940e',\n",
       "  'train_party_tags': ['rl_loop_200815_1_allonce_3', 'rl_loop_200815_1_hc_3'],\n",
       "  'gen_party_tag': 'rl_loop_200815_1_hc_4'},\n",
       " {'iternum': 4,\n",
       "  'trainer_id': '5f37a6829949403bf6af940f',\n",
       "  'train_party_tags': ['rl_loop_200815_1_allonce_4', 'rl_loop_200815_1_hc_4'],\n",
       "  'gen_party_tag': 'rl_loop_200815_1_hc_5'},\n",
       " {'iternum': 5,\n",
       "  'trainer_id': '5f37a6829949403bf6af9410',\n",
       "  'train_party_tags': ['rl_loop_200815_1_allonce_5', 'rl_loop_200815_1_hc_5'],\n",
       "  'gen_party_tag': 'rl_loop_200815_1_hc_6'},\n",
       " {'iternum': 6,\n",
       "  'trainer_id': '5f37a6829949403bf6af9411',\n",
       "  'train_party_tags': ['rl_loop_200815_1_allonce_6', 'rl_loop_200815_1_hc_6'],\n",
       "  'gen_party_tag': 'rl_loop_200815_1_hc_7'},\n",
       " {'iternum': 7,\n",
       "  'trainer_id': '5f37a6829949403bf6af9412',\n",
       "  'train_party_tags': ['rl_loop_200815_1_allonce_7', 'rl_loop_200815_1_hc_7'],\n",
       "  'gen_party_tag': 'rl_loop_200815_1_hc_8'},\n",
       " {'iternum': 8,\n",
       "  'trainer_id': '5f37a6829949403bf6af9413',\n",
       "  'train_party_tags': ['rl_loop_200815_1_allonce_8', 'rl_loop_200815_1_hc_8'],\n",
       "  'gen_party_tag': 'rl_loop_200815_1_hc_9'},\n",
       " {'iternum': 9,\n",
       "  'trainer_id': '5f37a6829949403bf6af9414',\n",
       "  'train_party_tags': ['rl_loop_200815_1_allonce_9', 'rl_loop_200815_1_hc_9'],\n",
       "  'gen_party_tag': 'rl_loop_200815_1_hc_10'}]"
      ]
     },
     "execution_count": 7,
     "metadata": {},
     "output_type": "execute_result"
    }
   ],
   "source": [
    "configs"
   ]
  },
  {
   "cell_type": "code",
   "execution_count": 8,
   "metadata": {},
   "outputs": [],
   "source": [
    "rate_ids = [ObjectId() for _ in range(len(configs))]"
   ]
  },
  {
   "cell_type": "code",
   "execution_count": 9,
   "metadata": {},
   "outputs": [],
   "source": [
    "import subprocess"
   ]
  },
  {
   "cell_type": "code",
   "execution_count": 14,
   "metadata": {},
   "outputs": [
    {
     "name": "stdout",
     "output_type": "stream",
     "text": [
      "python -m pokeai.ai.generic_move_model.rl_rating_battle 5f37a6829949403bf6af940b rl_loop_200815_1_allonce_0,rl_loop_200815_1_hc_0 --rate_id 5f478d7f60f6bad00ef43ff8\n",
      "python -m pokeai.ai.generic_move_model.rl_rating_battle 5f37a6829949403bf6af940c rl_loop_200815_1_allonce_1,rl_loop_200815_1_hc_1 --rate_id 5f478d7f60f6bad00ef43ff9\n",
      "python -m pokeai.ai.generic_move_model.rl_rating_battle 5f37a6829949403bf6af940d rl_loop_200815_1_allonce_2,rl_loop_200815_1_hc_2 --rate_id 5f478d7f60f6bad00ef43ffa\n",
      "python -m pokeai.ai.generic_move_model.rl_rating_battle 5f37a6829949403bf6af940e rl_loop_200815_1_allonce_3,rl_loop_200815_1_hc_3 --rate_id 5f478d7f60f6bad00ef43ffb\n",
      "python -m pokeai.ai.generic_move_model.rl_rating_battle 5f37a6829949403bf6af940f rl_loop_200815_1_allonce_4,rl_loop_200815_1_hc_4 --rate_id 5f478d7f60f6bad00ef43ffc\n",
      "python -m pokeai.ai.generic_move_model.rl_rating_battle 5f37a6829949403bf6af9410 rl_loop_200815_1_allonce_5,rl_loop_200815_1_hc_5 --rate_id 5f478d7f60f6bad00ef43ffd\n",
      "python -m pokeai.ai.generic_move_model.rl_rating_battle 5f37a6829949403bf6af9411 rl_loop_200815_1_allonce_6,rl_loop_200815_1_hc_6 --rate_id 5f478d7f60f6bad00ef43ffe\n",
      "python -m pokeai.ai.generic_move_model.rl_rating_battle 5f37a6829949403bf6af9412 rl_loop_200815_1_allonce_7,rl_loop_200815_1_hc_7 --rate_id 5f478d7f60f6bad00ef43fff\n",
      "python -m pokeai.ai.generic_move_model.rl_rating_battle 5f37a6829949403bf6af9413 rl_loop_200815_1_allonce_8,rl_loop_200815_1_hc_8 --rate_id 5f478d7f60f6bad00ef44000\n",
      "python -m pokeai.ai.generic_move_model.rl_rating_battle 5f37a6829949403bf6af9414 rl_loop_200815_1_allonce_9,rl_loop_200815_1_hc_9 --rate_id 5f478d7f60f6bad00ef44001\n"
     ]
    }
   ],
   "source": [
    "for config, rate_id in zip(configs, rate_ids):\n",
    "    cmd = f\"python -m pokeai.ai.generic_move_model.rl_rating_battle {config['trainer_id']} {','.join(config['train_party_tags'])} --rate_id {rate_id}\"\n",
    "    print(cmd)\n",
    "    subprocess.check_call(cmd, shell=True)"
   ]
  },
  {
   "cell_type": "code",
   "execution_count": 15,
   "metadata": {},
   "outputs": [],
   "source": [
    "iter_ids = []\n",
    "for config, rate_id in zip(configs, rate_ids):\n",
    "    c = copy.deepcopy(config)\n",
    "    c[\"rate_id\"] = str(rate_id)\n",
    "    iter_ids.append(c)\n",
    "with open(os.path.join(file_base_dir, f\"iter_ids.json\"), \"w\") as f:\n",
    "    json.dump(iter_ids, f)"
   ]
  },
  {
   "cell_type": "code",
   "execution_count": null,
   "metadata": {},
   "outputs": [],
   "source": []
  }
 ],
 "metadata": {
  "kernelspec": {
   "display_name": "Python 3",
   "language": "python",
   "name": "python3"
  },
  "language_info": {
   "codemirror_mode": {
    "name": "ipython",
    "version": 3
   },
   "file_extension": ".py",
   "mimetype": "text/x-python",
   "name": "python",
   "nbconvert_exporter": "python",
   "pygments_lexer": "ipython3",
   "version": "3.8.1"
  }
 },
 "nbformat": 4,
 "nbformat_minor": 4
}
